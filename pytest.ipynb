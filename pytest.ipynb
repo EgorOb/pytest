{
 "cells": [
  {
   "cell_type": "markdown",
   "id": "ab2fcb1d",
   "metadata": {},
   "source": [
    "# Функции-генераторы, генераторы выражения. Тестирование pytest"
   ]
  },
  {
   "cell_type": "markdown",
   "id": "a5918b65",
   "metadata": {},
   "source": [
    "Функции-генераторы"
   ]
  },
  {
   "cell_type": "markdown",
   "id": "3afb058d",
   "metadata": {},
   "source": [
    "Генераторы Python – это функции, которые возвращают объект обхода и используются для создания итераторов. Также генератор может быть выражением.\\\n",
    "Создание генератора на Python похоже на создание обычной функции, определяемую ключевым словом **def**, однако использует ключевое слово **yield** вместо **return**.\n"
   ]
  },
  {
   "cell_type": "markdown",
   "id": "85da34b1",
   "metadata": {},
   "source": [
    "Оператор **yield** отвечает за управление потоком функции генератора. Он приостанавливает выполнение функции, сохраняя все состояния и уступая вызывающему. Позже он возобновляет выполнение при вызове следующей функции.\n",
    "\n",
    "Оператор **return** возвращает значение и завершает работу всей функции, оператор return может использоваться в функции только один раз. Оператор **yield** в функции генератора мы можем использовать неоднократно."
   ]
  },
  {
   "cell_type": "markdown",
   "id": "fcad99a1",
   "metadata": {},
   "source": [
    "### Создадим генератор функцию, последовательно возвращающую кортеж из зеркальных элементов относительно центра входного списка"
   ]
  },
  {
   "cell_type": "code",
   "execution_count": 1,
   "id": "9b9a2c9a",
   "metadata": {},
   "outputs": [],
   "source": [
    "def pair(data):\n",
    "    for i, val in enumerate(data):\n",
    "        yield (val, data[-i-1])"
   ]
  },
  {
   "cell_type": "code",
   "execution_count": 2,
   "id": "30429bc6",
   "metadata": {},
   "outputs": [],
   "source": [
    "data = list(range(10))"
   ]
  },
  {
   "cell_type": "code",
   "execution_count": 3,
   "id": "76791c3f",
   "metadata": {},
   "outputs": [],
   "source": [
    "pair_gen = pair(data)"
   ]
  },
  {
   "cell_type": "code",
   "execution_count": 4,
   "id": "d4dee2f3",
   "metadata": {},
   "outputs": [
    {
     "data": {
      "text/plain": [
       "(0, 9)"
      ]
     },
     "execution_count": 4,
     "metadata": {},
     "output_type": "execute_result"
    }
   ],
   "source": [
    "next(pair_gen)"
   ]
  },
  {
   "cell_type": "code",
   "execution_count": 5,
   "id": "31f7078d",
   "metadata": {},
   "outputs": [
    {
     "name": "stdout",
     "output_type": "stream",
     "text": [
      "(1, 8)\n",
      "(2, 7)\n",
      "(3, 6)\n",
      "(4, 5)\n",
      "(5, 4)\n",
      "(6, 3)\n",
      "(7, 2)\n",
      "(8, 1)\n",
      "(9, 0)\n"
     ]
    }
   ],
   "source": [
    "for val in pair_gen: print(val)"
   ]
  },
  {
   "cell_type": "markdown",
   "id": "ee66081e",
   "metadata": {},
   "source": [
    "Множественное использование оператора **yield**"
   ]
  },
  {
   "cell_type": "code",
   "execution_count": 6,
   "id": "6c7ab6f2",
   "metadata": {},
   "outputs": [],
   "source": [
    "def multiple_yield(): \n",
    "    while True:\n",
    "        str1 = \"str1\" \n",
    "        yield str1 \n",
    " \n",
    "        str2 = \"str2\" \n",
    "        yield str2 \n",
    " \n",
    "        str3 = \"str3\" \n",
    "        yield str3"
   ]
  },
  {
   "cell_type": "code",
   "execution_count": 7,
   "id": "4bbc0609",
   "metadata": {},
   "outputs": [],
   "source": [
    "obj = multiple_yield() "
   ]
  },
  {
   "cell_type": "code",
   "execution_count": 8,
   "id": "75c472c5",
   "metadata": {},
   "outputs": [
    {
     "data": {
      "text/plain": [
       "'str1'"
      ]
     },
     "execution_count": 8,
     "metadata": {},
     "output_type": "execute_result"
    }
   ],
   "source": [
    "next(obj)"
   ]
  },
  {
   "cell_type": "markdown",
   "id": "f5a2084e",
   "metadata": {},
   "source": [
    "Разница между функцией генератора и нормальной функцией:\n",
    "* Нормальная функция содержит только один оператор **return**, тогда как функция генератора может содержать один или несколько операторов **yield**.\n",
    "* Когда вызываются функции генератора, нормальная функция немедленно приостанавливается, и управление передается вызывающей стороне.\n",
    "* Локальные переменные и их состояния запоминаются между последовательными вызовами.\n",
    "* Исключение **StopIteration** возникает автоматически при завершении функции."
   ]
  },
  {
   "cell_type": "markdown",
   "id": "3570a5f3",
   "metadata": {},
   "source": [
    "**Генератор выражения**\n",
    "\n",
    "В Python легко создать выражение генератора без использования пользовательской функции. Это то же самое, что и лямбда-функция, которая создает анонимную функцию; выражения генератора создают анонимную функцию генератора.\n",
    "\n",
    "Представление выражения генератора похоже на понимание списка Python. Единственное отличие состоит в том, что квадратные скобки заменены круглыми скобками. \n",
    "\n",
    "При определении списка вычисляет весь список, тогда как выражение генератора вычисляет один элемент за раз."
   ]
  },
  {
   "cell_type": "code",
   "execution_count": 9,
   "id": "3610826d",
   "metadata": {},
   "outputs": [],
   "source": [
    "gen = (x**2 for x in list(range(10)))"
   ]
  },
  {
   "cell_type": "code",
   "execution_count": 10,
   "id": "61373218",
   "metadata": {},
   "outputs": [
    {
     "data": {
      "text/plain": [
       "<generator object <genexpr> at 0x0000023A482913C0>"
      ]
     },
     "execution_count": 10,
     "metadata": {},
     "output_type": "execute_result"
    }
   ],
   "source": [
    "gen"
   ]
  },
  {
   "cell_type": "code",
   "execution_count": 11,
   "id": "08eb8b67",
   "metadata": {},
   "outputs": [
    {
     "data": {
      "text/plain": [
       "0"
      ]
     },
     "execution_count": 11,
     "metadata": {},
     "output_type": "execute_result"
    }
   ],
   "source": [
    "next(gen)"
   ]
  },
  {
   "cell_type": "code",
   "execution_count": 12,
   "id": "2feaaccc",
   "metadata": {},
   "outputs": [
    {
     "name": "stdout",
     "output_type": "stream",
     "text": [
      "1\n",
      "4\n",
      "9\n",
      "16\n",
      "25\n",
      "36\n",
      "49\n",
      "64\n",
      "81\n"
     ]
    }
   ],
   "source": [
    "for val in gen: print(val)"
   ]
  },
  {
   "cell_type": "markdown",
   "id": "8c83c82d",
   "metadata": {},
   "source": [
    "## pytest"
   ]
  },
  {
   "cell_type": "markdown",
   "id": "c114395d",
   "metadata": {},
   "source": [
    "**pytest** - это фреймворк, который позволяет легко создавать как простые, так и расширяемые тесты.\\\n",
    "Тесты легко читаются — не нужно никаких шаблонов"
   ]
  },
  {
   "cell_type": "code",
   "execution_count": 13,
   "id": "5e718fe4",
   "metadata": {},
   "outputs": [],
   "source": [
    "import ipytest\n",
    "import pytest\n",
    "ipytest.autoconfig()"
   ]
  },
  {
   "cell_type": "markdown",
   "id": "305be72e",
   "metadata": {},
   "source": [
    "**Тестирование простейшей функции, через jupyter notebook**"
   ]
  },
  {
   "cell_type": "code",
   "execution_count": 14,
   "id": "eaae29e8",
   "metadata": {},
   "outputs": [
    {
     "name": "stdout",
     "output_type": "stream",
     "text": [
      "\u001b[1m======================================= test session starts =======================================\u001b[0m\n",
      "platform win32 -- Python 3.9.7, pytest-6.2.4, py-1.10.0, pluggy-0.13.1\n",
      "rootdir: C:\\Users\\studio777\\Desktop\\test\n",
      "plugins: anyio-2.2.0\n",
      "collected 4 items\n",
      "\n",
      "tmppgg_s7h0.py \u001b[32m.\u001b[0m\u001b[32m.\u001b[0m\u001b[32m.\u001b[0m\u001b[32m.\u001b[0m\u001b[33m                                                                          [100%]\u001b[0m\n",
      "\n",
      "\u001b[33m======================================== warnings summary =========================================\u001b[0m\n",
      "..\\..\\..\\..\\ProgramData\\Anaconda3\\lib\\site-packages\\pyreadline\\py3k_compat.py:8\n",
      "  C:\\ProgramData\\Anaconda3\\lib\\site-packages\\pyreadline\\py3k_compat.py:8: DeprecationWarning: Using or importing the ABCs from 'collections' instead of from 'collections.abc' is deprecated since Python 3.3, and in 3.10 it will stop working\n",
      "    return isinstance(x, collections.Callable)\n",
      "\n",
      "-- Docs: https://docs.pytest.org/en/stable/warnings.html\n",
      "\u001b[33m================================== \u001b[32m4 passed\u001b[0m, \u001b[33m\u001b[1m1 warning\u001b[0m\u001b[33m in 0.01s\u001b[0m\u001b[33m ===================================\u001b[0m\n"
     ]
    }
   ],
   "source": [
    "%%ipytest -v\n",
    "\n",
    "def test_my_func1():\n",
    "    assert my_func(0) == 0\n",
    "\n",
    "def test_my_func2():\n",
    "    assert my_func(1) == 0\n",
    "\n",
    "def test_my_func3():\n",
    "    assert my_func(2) == 2\n",
    "    \n",
    "def test_my_func4():\n",
    "    assert my_func(3) == 2    \n",
    "\n",
    "def my_func(x):\n",
    "    return x // 2 * 2 "
   ]
  },
  {
   "cell_type": "markdown",
   "id": "3fb80cfa",
   "metadata": {},
   "source": [
    "**Тестирование простейшей функции, через консоль**"
   ]
  },
  {
   "cell_type": "code",
   "execution_count": 15,
   "id": "d9f6c838",
   "metadata": {},
   "outputs": [
    {
     "name": "stdout",
     "output_type": "stream",
     "text": [
      "============================= test session starts =============================\n",
      "platform win32 -- Python 3.9.7, pytest-6.2.4, py-1.10.0, pluggy-0.13.1 -- C:\\ProgramData\\Anaconda3\\python.exe\n",
      "cachedir: .pytest_cache\n",
      "rootdir: C:\\Users\\studio777\\Desktop\\test\n",
      "plugins: anyio-2.2.0\n",
      "collecting ... collected 1 item\n",
      "\n",
      "simple_test.py::test_my_func PASSED                                      [100%]\n",
      "\n",
      "============================== warnings summary ===============================\n",
      "..\\..\\..\\..\\ProgramData\\Anaconda3\\lib\\site-packages\\pyreadline\\py3k_compat.py:8\n",
      "  C:\\ProgramData\\Anaconda3\\lib\\site-packages\\pyreadline\\py3k_compat.py:8: DeprecationWarning: Using or importing the ABCs from 'collections' instead of from 'collections.abc' is deprecated since Python 3.3, and in 3.10 it will stop working\n",
      "    return isinstance(x, collections.Callable)\n",
      "\n",
      "-- Docs: https://docs.pytest.org/en/stable/warnings.html\n",
      "======================== 1 passed, 1 warning in 0.06s =========================\n"
     ]
    }
   ],
   "source": [
    "!pytest simple_test.py -v"
   ]
  },
  {
   "cell_type": "markdown",
   "id": "73fff048",
   "metadata": {},
   "source": [
    "**Группировка функций в класс**"
   ]
  },
  {
   "cell_type": "code",
   "execution_count": 16,
   "id": "f88c766d",
   "metadata": {},
   "outputs": [
    {
     "name": "stdout",
     "output_type": "stream",
     "text": [
      "\u001b[1m======================================= test session starts =======================================\u001b[0m\n",
      "platform win32 -- Python 3.9.7, pytest-6.2.4, py-1.10.0, pluggy-0.13.1\n",
      "rootdir: C:\\Users\\studio777\\Desktop\\test\n",
      "plugins: anyio-2.2.0\n",
      "collected 2 items\n",
      "\n",
      "tmps4w145x8.py \u001b[32m.\u001b[0m\u001b[31mF\u001b[0m\u001b[31m                                                                            [100%]\u001b[0m\n",
      "\n",
      "============================================ FAILURES =============================================\n",
      "\u001b[31m\u001b[1m_______________________________________ TestClass.test_two ________________________________________\u001b[0m\n",
      "\n",
      "self = <__main__.TestClass object at 0x0000023A498F3550>\n",
      "\n",
      "    \u001b[94mdef\u001b[39;49;00m \u001b[92mtest_two\u001b[39;49;00m(\u001b[96mself\u001b[39;49;00m):\n",
      "        x = \u001b[33m\"\u001b[39;49;00m\u001b[33mhello\u001b[39;49;00m\u001b[33m\"\u001b[39;49;00m\n",
      ">       \u001b[94massert\u001b[39;49;00m \u001b[96mhasattr\u001b[39;49;00m(x, \u001b[33m\"\u001b[39;49;00m\u001b[33mcheck\u001b[39;49;00m\u001b[33m\"\u001b[39;49;00m)\n",
      "\u001b[1m\u001b[31mE       AssertionError: assert False\u001b[0m\n",
      "\u001b[1m\u001b[31mE        +  where False = hasattr('hello', 'check')\u001b[0m\n",
      "\n",
      "\u001b[1m\u001b[31mC:\\Users\\STUDIO~1\\AppData\\Local\\Temp/ipykernel_13200/464346777.py\u001b[0m:9: AssertionError\n",
      "===================================== short test summary info =====================================\n",
      "FAILED tmps4w145x8.py::TestClass::test_two - AssertionError: assert False\n",
      "\u001b[31m=================================== \u001b[31m\u001b[1m1 failed\u001b[0m, \u001b[32m1 passed\u001b[0m\u001b[31m in 0.20s\u001b[0m\u001b[31m ===================================\u001b[0m\n"
     ]
    }
   ],
   "source": [
    "%%ipytest -v\n",
    "\n",
    "class TestClass:\n",
    "    \n",
    "    def test_one(self):\n",
    "        x = \"this\"\n",
    "        assert \"h\" in x\n",
    "    \n",
    "    def test_two(self):\n",
    "        x = \"hello\"\n",
    "        assert hasattr(x, \"check\")\n"
   ]
  },
  {
   "cell_type": "code",
   "execution_count": 17,
   "id": "eb91cb87",
   "metadata": {},
   "outputs": [
    {
     "name": "stdout",
     "output_type": "stream",
     "text": [
      "============================= test session starts =============================\n",
      "platform win32 -- Python 3.9.7, pytest-6.2.4, py-1.10.0, pluggy-0.13.1 -- C:\\ProgramData\\Anaconda3\\python.exe\n",
      "cachedir: .pytest_cache\n",
      "rootdir: C:\\Users\\studio777\\Desktop\\test\n",
      "plugins: anyio-2.2.0\n",
      "collecting ... collected 2 items\n",
      "\n",
      "simple_class.py::TestClass::test_one PASSED                              [ 50%]\n",
      "simple_class.py::TestClass::test_two FAILED                              [100%]\n",
      "\n",
      "================================== FAILURES ===================================\n",
      "_____________________________ TestClass.test_two ______________________________\n",
      "\n",
      "self = <simple_class.TestClass object at 0x000001D1F5304A90>\n",
      "\n",
      "    def test_two(self):\n",
      "        x = \"hello\"\n",
      ">       assert hasattr(x, \"check\")\n",
      "E       AssertionError: assert False\n",
      "E        +  where False = hasattr('hello', 'check')\n",
      "\n",
      "simple_class.py:11: AssertionError\n",
      "============================== warnings summary ===============================\n",
      "..\\..\\..\\..\\ProgramData\\Anaconda3\\lib\\site-packages\\pyreadline\\py3k_compat.py:8\n",
      "  C:\\ProgramData\\Anaconda3\\lib\\site-packages\\pyreadline\\py3k_compat.py:8: DeprecationWarning: Using or importing the ABCs from 'collections' instead of from 'collections.abc' is deprecated since Python 3.3, and in 3.10 it will stop working\n",
      "    return isinstance(x, collections.Callable)\n",
      "\n",
      "-- Docs: https://docs.pytest.org/en/stable/warnings.html\n",
      "=========================== short test summary info ===========================\n",
      "FAILED simple_class.py::TestClass::test_two - AssertionError: assert False\n",
      "=================== 1 failed, 1 passed, 1 warning in 0.15s ====================\n"
     ]
    }
   ],
   "source": [
    "!pytest simple_class.py -v"
   ]
  },
  {
   "cell_type": "markdown",
   "id": "0f9927bb",
   "metadata": {},
   "source": [
    "**Запуск тестов по идентификаторам узлов**\n",
    "\n",
    "Каждому собранному тесту присваивается уникальный идентификатор *nodeid*, который состоит из\n",
    "имени файла модуля, за которым следуют спецификаторы, такие как имена классов, имена функций\n",
    "и параметры из параметризации, разделенные символами **::**"
   ]
  },
  {
   "cell_type": "code",
   "execution_count": 18,
   "id": "7c3b8e5b",
   "metadata": {},
   "outputs": [
    {
     "name": "stdout",
     "output_type": "stream",
     "text": [
      "============================= test session starts =============================\n",
      "platform win32 -- Python 3.9.7, pytest-6.2.4, py-1.10.0, pluggy-0.13.1\n",
      "rootdir: C:\\Users\\studio777\\Desktop\\test\n",
      "plugins: anyio-2.2.0\n",
      "collected 1 item\n",
      "\n",
      "simple_class.py .                                                        [100%]\n",
      "\n",
      "============================== warnings summary ===============================\n",
      "..\\..\\..\\..\\ProgramData\\Anaconda3\\lib\\site-packages\\pyreadline\\py3k_compat.py:8\n",
      "  C:\\ProgramData\\Anaconda3\\lib\\site-packages\\pyreadline\\py3k_compat.py:8: DeprecationWarning: Using or importing the ABCs from 'collections' instead of from 'collections.abc' is deprecated since Python 3.3, and in 3.10 it will stop working\n",
      "    return isinstance(x, collections.Callable)\n",
      "\n",
      "-- Docs: https://docs.pytest.org/en/stable/warnings.html\n",
      "======================== 1 passed, 1 warning in 0.02s =========================\n"
     ]
    }
   ],
   "source": [
    "!pytest simple_class.py::TestClass::test_one"
   ]
  },
  {
   "cell_type": "markdown",
   "id": "46e0767a",
   "metadata": {},
   "source": [
    "**Изменение вывода сообщений трассировки**\n",
    "\n",
    "* *pytest --showlocals*   показывать локальные переменные в сообщениях\n",
    "* pytest -l             показывать локальные переменные в сообщениях (краткий вариант)\n",
    "* pytest --tb=auto      (по умолчанию) \"расширенный\" вывод для первого и последнего сообщений, и \"короткий\" для остальных\n",
    "* pytest --tb=long      исчерпывающий, подробный формат сообщений\n",
    "* pytest --tb=short     сокращенный формат сообщений\n",
    "* pytest --tb=line      только одна строка на падение\n",
    "* pytest --tb=native    стандартный формат библиотеки Python\n",
    "* pytest --tb=no        никаких сообщений"
   ]
  },
  {
   "cell_type": "markdown",
   "id": "bf1188da",
   "metadata": {},
   "source": [
    "Использование **--full-trace** приводит к тому, что при ошибке печатаются очень длинные трассировки (длиннее, чем при **--tb=long**). Параметр также гарантирует, что сообщения трассировки будут\n",
    "напечатаны при прерывании выполнения c клавиатуры с помощью *Ctrl+C*. Это очень полезно,\n",
    "если тесты занимают слишком много времени, и вы прерываете их с клавиатуры с помощью *Ctrl+C*,\n",
    "чтобы узнать, где они зависли. \\\n",
    "\n",
    "По умолчанию при прерывании вывод не будет показан (поскольку\n",
    "исключение KeyboardInterrupt будет поймано pytest). Используя этот параметр, вы можете быть\n",
    "уверены, что увидите трассировку.\n"
   ]
  },
  {
   "cell_type": "markdown",
   "id": "26dff700",
   "metadata": {},
   "source": [
    "**pytest** можно вызвать прямо в коде Python, для этого в коде необходимо указать *pytest.main()*"
   ]
  },
  {
   "cell_type": "code",
   "execution_count": 19,
   "id": "2ab963cb",
   "metadata": {},
   "outputs": [
    {
     "name": "stdout",
     "output_type": "stream",
     "text": [
      "============================= test session starts =============================\n",
      "platform win32 -- Python 3.9.7, pytest-6.2.4, py-1.10.0, pluggy-0.13.1\n",
      "rootdir: C:\\Users\\studio777\\Desktop\\test\n",
      "plugins: anyio-2.2.0\n",
      "collected 8 items\n",
      "\n",
      "simple_test.py .                                                         [ 12%]\n",
      "test_class_solver.py .......                                             [100%]\n",
      "\n",
      "============================== warnings summary ===============================\n",
      "..\\..\\..\\..\\ProgramData\\Anaconda3\\lib\\site-packages\\pyreadline\\py3k_compat.py:8\n",
      "  C:\\ProgramData\\Anaconda3\\lib\\site-packages\\pyreadline\\py3k_compat.py:8: DeprecationWarning: Using or importing the ABCs from 'collections' instead of from 'collections.abc' is deprecated since Python 3.3, and in 3.10 it will stop working\n",
      "    return isinstance(x, collections.Callable)\n",
      "\n",
      "functions.py:7\n",
      "  C:\\Users\\studio777\\Desktop\\test\\functions.py:7: DeprecationWarning: invalid escape sequence \\d\n",
      "    str_ = re.sub('[^-\\d]', '', string)\n",
      "\n",
      "-- Docs: https://docs.pytest.org/en/stable/warnings.html\n",
      "======================== 8 passed, 2 warnings in 0.61s ========================\n"
     ]
    }
   ],
   "source": [
    "!python simple_test.py"
   ]
  },
  {
   "cell_type": "markdown",
   "id": "c27b4f34",
   "metadata": {},
   "source": [
    "### Фикстуры "
   ]
  },
  {
   "cell_type": "markdown",
   "id": "18bbada5",
   "metadata": {},
   "source": [
    "Тестовые фикстуры инициализируют тестовые функции. Они обеспечивают надежность тестов, согласованнность и повторямость их результатов.\n",
    "\n",
    "При инициализации можно настраивать сервисы, состояния, переменные окружения. Доступ к ним осуществляется через аргументы тестовых функций, где для каждой фикстуры, используемой тестовой функцией, в самой функции, как правило, существует\n",
    "соответствующий аргумент, имя которого совпадает с наименованием фикстуры."
   ]
  },
  {
   "cell_type": "markdown",
   "id": "f6092cbd",
   "metadata": {},
   "source": [
    "* фикстуры имеют явные имена и активируются путем их объявления в тестовых функциях, модулях, классах и проектах.\n",
    "* фикстуры реализованы модально: каждый вызов фикстуры инициализирует функцию-фикстуру, которая в свою очередь может использовать другие фикстуры.\n",
    "* управление фикстурами расширяется от простого модуля до комплексного функционального тестирования, позволяя параметризовать фикстуры и тесты в соответствии с конфигурацией и опциями компонентов, или повторно использовать фикстуры внутри функции, класса, модуля или тестовой сессии в целом.\n"
   ]
  },
  {
   "cell_type": "markdown",
   "id": "296663b6",
   "metadata": {},
   "source": [
    "**Фикстуры как аргументы функций**\n",
    "\n",
    "Тестовые функции принимают фикстуры как входящий аргумент с тем же именем. Для каждого такого аргумента функция-фикстура предоставляет объект фикстуры. Для того, чтобы зарегистировать\n",
    "функцию как фикстуру, нужно использовать декоратор **@pytest.fixture**. "
   ]
  },
  {
   "cell_type": "code",
   "execution_count": 20,
   "id": "edf1f6ef",
   "metadata": {},
   "outputs": [
    {
     "name": "stdout",
     "output_type": "stream",
     "text": [
      "\u001b[1m======================================= test session starts =======================================\u001b[0m\n",
      "platform win32 -- Python 3.9.7, pytest-6.2.4, py-1.10.0, pluggy-0.13.1\n",
      "rootdir: C:\\Users\\studio777\\Desktop\\test\n",
      "plugins: anyio-2.2.0\n",
      "collected 1 item\n",
      "\n",
      "tmpsvpnauos.py \u001b[32m.\u001b[0m\u001b[32m                                                                             [100%]\u001b[0m\n",
      "\n",
      "\u001b[32m======================================== \u001b[32m\u001b[1m1 passed\u001b[0m\u001b[32m in 0.01s\u001b[0m\u001b[32m ========================================\u001b[0m\n"
     ]
    }
   ],
   "source": [
    "%%ipytest -v\n",
    "\n",
    "class Fruit:\n",
    "    def __init__(self, name):\n",
    "        self.name = name\n",
    "\n",
    "        \n",
    "@pytest.fixture\n",
    "def my_fruit():\n",
    "    return Fruit(\"apple\")\n",
    "\n",
    "\n",
    "@pytest.fixture\n",
    "def fruit_basket(my_fruit):\n",
    "    return [Fruit(\"banana\"), my_fruit]\n",
    "\n",
    "\n",
    "def test_my_fruit_in_basket(my_fruit, fruit_basket):\n",
    "    assert my_fruit in fruit_basket"
   ]
  },
  {
   "cell_type": "markdown",
   "id": "45f14238",
   "metadata": {},
   "source": [
    "**Порядок создания фикстур**\n",
    "\n",
    "При запросе фикстуры функцией сначала инициализиурются фикстуры с самой широкой областью\n",
    "действия - **session** и **module**, а затем - фикстуры более низкого уровня с областями **class** или **function**.\n",
    "В рамках одной тестовой функции порядок создания фикстур с одинаковой областью действия зависит\n",
    "от очередности вызова этих фикстур и установленных между ними зависимостей. При этом фикстуры\n",
    "с параметром **autouse = True** инициализируются прежде явно объявленных фикстур того же уровня.\n"
   ]
  },
  {
   "cell_type": "code",
   "execution_count": 21,
   "id": "a24230d0",
   "metadata": {},
   "outputs": [
    {
     "name": "stdout",
     "output_type": "stream",
     "text": [
      "\u001b[32m.\u001b[0m\u001b[32m                                                                                            [100%]\u001b[0m\n",
      "\u001b[32m\u001b[32m\u001b[1m1 passed\u001b[0m\u001b[32m in 0.00s\u001b[0m\u001b[0m\n"
     ]
    }
   ],
   "source": [
    "%%ipytest\n",
    "\n",
    "order = []\n",
    "\n",
    "@pytest.fixture(scope=\"session\")\n",
    "def s1():\n",
    "    order.append(\"s1\")\n",
    "\n",
    "@pytest.fixture(scope=\"module\")\n",
    "def m1():\n",
    "    order.append(\"m1\")\n",
    "\n",
    "@pytest.fixture\n",
    "def f1(f3):\n",
    "    order.append(\"f1\")\n",
    "\n",
    "@pytest.fixture\n",
    "def f3():\n",
    "    order.append(\"f3\")\n",
    "\n",
    "@pytest.fixture(autouse=True)\n",
    "def a1():\n",
    "    order.append(\"a1\")\n",
    "\n",
    "@pytest.fixture\n",
    "def f2():\n",
    "    order.append(\"f2\")\n",
    "\n",
    "def test_order(f1, m1, f2, s1):\n",
    "    assert order == [\"s1\", \"m1\", \"a1\", \"f3\", \"f1\", \"f2\"]"
   ]
  },
  {
   "cell_type": "markdown",
   "id": "b7889f27",
   "metadata": {},
   "source": [
    "Фикстуры, запрошенные функцией test_order, будут инициализированы в следующем порядке:\n",
    "1. *s1*: фикстура с самой широкой областью действия (**session**).\n",
    "2. *m1*: фикстура второго уровня (**module**).\n",
    "3. *a1*: фикстура с областью действия **function** (function-scoped fixture) и параметром **autouse = True**: экземпляр этой фикстуры будет создан до создания остальных function-scoped фикстур.\n",
    "4. *f3*: function-scoped фикстура, которую запрашивает функция *f1*: ее нужно создать в момент запроса\n",
    "5. *f1*: первая function-scoped фикстура в списке аргументов функции test_order.\n",
    "6. *f2*: последняя function-scoped фикстура в списке аргументов функции test_order.\n"
   ]
  },
  {
   "cell_type": "markdown",
   "id": "7a0edff9",
   "metadata": {},
   "source": [
    "**Фикстура как фабрика данных**\n",
    "\n",
    "Шаблон «фабрика-фикстура» может помочь в ситуациях, когда результат, возвращаемый фикстурой\n",
    "используется много раз в отдельном тесте. Суть в том, что вместо того, чтобы напрямую возвращать\n",
    "данные, фикстура возвращает функцию, которая генерирует данные. И затем эта функция может быть\n",
    "неоднократно вызвана в тесте.\n",
    "Если нужно, фабрики-фикстуры могут принимать параметры:\n"
   ]
  },
  {
   "cell_type": "code",
   "execution_count": 22,
   "id": "f77c9fde",
   "metadata": {},
   "outputs": [
    {
     "name": "stdout",
     "output_type": "stream",
     "text": [
      "\u001b[1m======================================= test session starts =======================================\u001b[0m\n",
      "platform win32 -- Python 3.9.7, pytest-6.2.4, py-1.10.0, pluggy-0.13.1\n",
      "rootdir: C:\\Users\\studio777\\Desktop\\test\n",
      "plugins: anyio-2.2.0\n",
      "collected 1 item\n",
      "\n",
      "tmpi5wqm472.py \u001b[32m.\u001b[0m\u001b[32m                                                                             [100%]\u001b[0m\n",
      "\n",
      "\u001b[32m======================================== \u001b[32m\u001b[1m1 passed\u001b[0m\u001b[32m in 0.01s\u001b[0m\u001b[32m ========================================\u001b[0m\n"
     ]
    }
   ],
   "source": [
    "%%ipytest -v\n",
    "\n",
    "@pytest.fixture\n",
    "def make_customer_record():\n",
    "    def _make_customer_record(name):\n",
    "        return {\"name\": name, \"orders\": []}\n",
    "    \n",
    "    return _make_customer_record\n",
    "\n",
    "\n",
    "def test_customer_records(make_customer_record):\n",
    "    customer_1 = make_customer_record(\"Lisa\")\n",
    "    customer_2 = make_customer_record(\"Mike\")\n",
    "    customer_3 = make_customer_record(\"Meredith\")\n"
   ]
  },
  {
   "cell_type": "markdown",
   "id": "7a154671",
   "metadata": {},
   "source": [
    "**Параметризация фикстур**\n",
    "\n",
    "Фикстуры могут быть параметризованы, если их нужно вызывать неоднократно, выполняя несколько\n",
    "одинаковых, использующих эти фикстуры, тестов. Обычно повторно запускаемые тестовые функции\n",
    "не зависят друг от друга. И в этом случае параметризация фикстур помогает писать исчерпывающие функциональные тесты для компонентов, которые сами по себе могут быть сконфигурированы разными способами."
   ]
  },
  {
   "cell_type": "code",
   "execution_count": 23,
   "id": "b2c85b53",
   "metadata": {},
   "outputs": [
    {
     "name": "stdout",
     "output_type": "stream",
     "text": [
      "\u001b[1m======================================= test session starts =======================================\u001b[0m\n",
      "platform win32 -- Python 3.9.7, pytest-6.2.4, py-1.10.0, pluggy-0.13.1\n",
      "rootdir: C:\\Users\\studio777\\Desktop\\test\n",
      "plugins: anyio-2.2.0\n",
      "collected 4 items\n",
      "\n",
      "tmpzu2xc1as.py \u001b[32m.\u001b[0m\u001b[32m.\u001b[0m\u001b[32m.\u001b[0m\u001b[32m.\u001b[0m\u001b[32m                                                                          [100%]\u001b[0m\n",
      "\n",
      "\u001b[32m======================================== \u001b[32m\u001b[1m4 passed\u001b[0m\u001b[32m in 0.01s\u001b[0m\u001b[32m ========================================\u001b[0m\n"
     ]
    }
   ],
   "source": [
    "%%ipytest -v\n",
    "\n",
    "data_for_test = [(0, 0), (1, 0), (2, 2), (3, 2)]\n",
    "\n",
    "@pytest.fixture(params=data_for_test)\n",
    "def p(request):\n",
    "    return request.param\n",
    "    \n",
    "def test_parametrized(p):\n",
    "    assert my_func(p[0]) == p[1]\n",
    "        \n",
    "def my_func(x):\n",
    "    return x // 2 * 2 "
   ]
  },
  {
   "cell_type": "markdown",
   "id": "034f45f3",
   "metadata": {},
   "source": [
    "**Использование маркировки с параметризованными фикстурами**"
   ]
  },
  {
   "cell_type": "markdown",
   "id": "d25d78e9",
   "metadata": {},
   "source": [
    "Встроенный декоратор **pytest.mark.parametrize** позволяет параметризовать аргументы тестовых функций."
   ]
  },
  {
   "cell_type": "code",
   "execution_count": 24,
   "id": "b3b7a426",
   "metadata": {},
   "outputs": [
    {
     "name": "stdout",
     "output_type": "stream",
     "text": [
      "\u001b[1m======================================= test session starts =======================================\u001b[0m\n",
      "platform win32 -- Python 3.9.7, pytest-6.2.4, py-1.10.0, pluggy-0.13.1\n",
      "rootdir: C:\\Users\\studio777\\Desktop\\test\n",
      "plugins: anyio-2.2.0\n",
      "collected 4 items\n",
      "\n",
      "tmpw0311n6k.py \u001b[32m.\u001b[0m\u001b[32m.\u001b[0m\u001b[32m.\u001b[0m\u001b[32m.\u001b[0m\u001b[32m                                                                          [100%]\u001b[0m\n",
      "\n",
      "\u001b[32m======================================== \u001b[32m\u001b[1m4 passed\u001b[0m\u001b[32m in 0.01s\u001b[0m\u001b[32m ========================================\u001b[0m\n"
     ]
    }
   ],
   "source": [
    "%%ipytest -v\n",
    "               \n",
    "@pytest.mark.parametrize('input,expected', [\n",
    "    (0, 0),\n",
    "    (1, 0),\n",
    "    (2, 2),\n",
    "    (3, 2),\n",
    "])\n",
    "\n",
    "def test_parametrized(input, expected):\n",
    "    assert my_func(input) == expected\n",
    "        \n",
    "def my_func(x):\n",
    "    return x // 2 * 2 "
   ]
  },
  {
   "cell_type": "code",
   "execution_count": null,
   "id": "178c05fb",
   "metadata": {},
   "outputs": [],
   "source": []
  },
  {
   "cell_type": "markdown",
   "id": "24c113d6",
   "metadata": {},
   "source": [
    "Задача \\\n",
    "Необходимо написать функцию, считывания значений из файла формата csv, по n строк с дальнейшим расчётом математического ожидания и дисперсии всех значений в файле"
   ]
  },
  {
   "cell_type": "code",
   "execution_count": 25,
   "id": "5e20ed9b",
   "metadata": {},
   "outputs": [],
   "source": [
    "import numpy as np\n",
    "import re"
   ]
  },
  {
   "cell_type": "code",
   "execution_count": 26,
   "id": "0da74547",
   "metadata": {},
   "outputs": [],
   "source": [
    "# Задание данных\n",
    "data = np.random.randint(-10, 10, 200000)"
   ]
  },
  {
   "cell_type": "code",
   "execution_count": 27,
   "id": "b5f74899",
   "metadata": {},
   "outputs": [],
   "source": [
    "# Запись данных в файл csv\n",
    "data.tofile('data.csv',sep=',\\n',format='%d')"
   ]
  },
  {
   "cell_type": "code",
   "execution_count": 28,
   "id": "5f9f4484",
   "metadata": {},
   "outputs": [],
   "source": [
    "# Функция удаления возможных побочных символов при чтения из файла. Выделение целых числел.\n",
    "def cleaner(string):\n",
    "    str_ = re.sub('[^-\\d]', '', string)\n",
    "    if str_ != '':\n",
    "        return int(str_)\n",
    "    return str_"
   ]
  },
  {
   "cell_type": "code",
   "execution_count": 29,
   "id": "388a3dcd",
   "metadata": {},
   "outputs": [],
   "source": [
    "# Генератор-функция для чтения даннных\n",
    "def data_read(name_file, n=10):\n",
    "#   Чтение из файла\n",
    "    with open(name_file, 'r') as f:\n",
    "        data = []\n",
    "        for idx, line in enumerate(f):\n",
    "#           Отчистка строки от ненужных символов и преобразование к типу int \n",
    "            line = cleaner(line)\n",
    "#           Выделение строк файла на блоки необходимого размера\n",
    "            if idx%n == 0 and idx != 0:\n",
    "                yield data\n",
    "                data = [line]\n",
    "            else:  \n",
    "                data.append(line)\n",
    "        yield data"
   ]
  },
  {
   "cell_type": "code",
   "execution_count": 30,
   "id": "2a54fbf2",
   "metadata": {},
   "outputs": [],
   "source": [
    "class Solver:\n",
    "    \"\"\"\n",
    "    Класс для определения математического ожидания и дисперсии данных, разбитых на блоки\n",
    "    \"\"\"\n",
    "    def __init__(self,):\n",
    "        self.mean = 0\n",
    "        self._mean2 = 0\n",
    "        self.var = 0\n",
    "        self.idx = 0\n",
    "    \n",
    "    def add_data(self, data):\n",
    "        sum_block = 0\n",
    "        sum2_block = 0\n",
    "        len_d = len(data)\n",
    "        \n",
    "        for val in data:\n",
    "            sum_block += val\n",
    "            sum2_block += val*val\n",
    "            \n",
    "        self.mean = (self.mean*self.idx + sum_block) / (self.idx + len_d)\n",
    "        self._mean2 = (self._mean2*self.idx + sum2_block) / (self.idx + len_d)\n",
    "        self.var = self._mean2 - self.mean*self.mean\n",
    "        self.idx += len_d\n",
    "    \n",
    "    def get_parameters(self,):\n",
    "        return (self.mean, self.var)"
   ]
  },
  {
   "cell_type": "code",
   "execution_count": 31,
   "id": "edb73bce",
   "metadata": {},
   "outputs": [
    {
     "name": "stdout",
     "output_type": "stream",
     "text": [
      "\u001b[1m======================================= test session starts =======================================\u001b[0m\n",
      "platform win32 -- Python 3.9.7, pytest-6.2.4, py-1.10.0, pluggy-0.13.1\n",
      "rootdir: C:\\Users\\studio777\\Desktop\\test\n",
      "plugins: anyio-2.2.0\n",
      "collected 7 items\n",
      "\n",
      "tmpwr88742f.py \u001b[32m.\u001b[0m\u001b[32m.\u001b[0m\u001b[32m.\u001b[0m\u001b[32m.\u001b[0m\u001b[32m.\u001b[0m\u001b[32m.\u001b[0m\u001b[32m.\u001b[0m\u001b[32m                                                                       [100%]\u001b[0m\n",
      "\n",
      "\u001b[32m======================================== \u001b[32m\u001b[1m7 passed\u001b[0m\u001b[32m in 0.02s\u001b[0m\u001b[32m ========================================\u001b[0m\n"
     ]
    }
   ],
   "source": [
    "%%ipytest -v\n",
    "\n",
    "class TestCleaner:\n",
    "#   Тестирование функции cleaner\n",
    "    def test1(self):\n",
    "        print('test1')\n",
    "        word = \"1\\n1\"\n",
    "        assert cleaner(word) == 11\n",
    "    \n",
    "    def test2(self):\n",
    "        print('test2')\n",
    "        word = \"\\n-1\"\n",
    "        assert cleaner(word) == -1\n",
    "        \n",
    "    def test3(self):\n",
    "        print('test3')\n",
    "        word = \"1\"\n",
    "        assert cleaner(word) == 1\n",
    "        \n",
    "    def test4(self):\n",
    "        print('test4')\n",
    "        word = \"\\\\\\\\\"\n",
    "        assert cleaner(word) == ''\n",
    "\n",
    "        \n",
    "class TestRead:\n",
    "#   Тестирование функции data_read    \n",
    "    def test1(self):\n",
    "        print('test1')\n",
    "        data = data_read('data_test.csv', n=3)\n",
    "        i = 0\n",
    "        while True:\n",
    "            try:\n",
    "                data_tmp = next(data)\n",
    "                i += 1\n",
    "            except:\n",
    "                break\n",
    "        assert i == 7\n",
    "    \n",
    "    def test2(self):\n",
    "        print('test2')\n",
    "        data = data_read('data_test.csv', n=3)\n",
    "        i = 0\n",
    "        while True:\n",
    "            try:\n",
    "                data_tmp = next(data)\n",
    "                i += 1\n",
    "            except:\n",
    "                break\n",
    "        assert data_tmp == [-3, 5]\n",
    "\n",
    "        \n",
    "def test_solver():\n",
    "#   Тестирование класса Solver\n",
    "    solver = Solver()\n",
    "    data_gen = data_read('data_test.csv', n=3)\n",
    "    data_gen_all = data_read('data_test.csv', n=20)\n",
    "    data_all = next(data_gen_all)\n",
    "    \n",
    "    while True:\n",
    "        try:\n",
    "            data_tmp = next(data_gen)\n",
    "            solver.add_data(data_tmp)\n",
    "        except:\n",
    "            break\n",
    "    \n",
    "    assert np.all(np.round(solver.get_parameters(), 6) \\\n",
    "                  == np.round((np.mean(data_all), np.var(data_all)), 6)) == True"
   ]
  }
 ],
 "metadata": {
  "kernelspec": {
   "display_name": "Python 3 (ipykernel)",
   "language": "python",
   "name": "python3"
  },
  "language_info": {
   "codemirror_mode": {
    "name": "ipython",
    "version": 3
   },
   "file_extension": ".py",
   "mimetype": "text/x-python",
   "name": "python",
   "nbconvert_exporter": "python",
   "pygments_lexer": "ipython3",
   "version": "3.9.7"
  }
 },
 "nbformat": 4,
 "nbformat_minor": 5
}
