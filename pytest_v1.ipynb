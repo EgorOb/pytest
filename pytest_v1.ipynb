{
 "cells": [
  {
   "cell_type": "markdown",
   "id": "ab2fcb1d",
   "metadata": {},
   "source": [
    "# Функции-генераторы. Тестирование pytest"
   ]
  },
  {
   "cell_type": "markdown",
   "id": "a5918b65",
   "metadata": {},
   "source": [
    "Функции-генераторы"
   ]
  },
  {
   "cell_type": "markdown",
   "id": "3afb058d",
   "metadata": {},
   "source": [
    "Генераторы Python – это функции, которые возвращают объект обхода и используются для создания итераторов. Также генератор может быть выражением.\\\n",
    "Создание генератора на Python похоже на создание обычной функции, определяемую ключевым словом **def**, однако использует ключевое слово **yield** вместо **return**.\n"
   ]
  },
  {
   "cell_type": "markdown",
   "id": "85da34b1",
   "metadata": {},
   "source": [
    "Оператор **yield** отвечает за управление потоком функции генератора. Он приостанавливает выполнение функции, сохраняя все состояния и уступая вызывающему. Позже он возобновляет выполнение при вызове следующей функции.\n",
    "\n",
    "Оператор **return** возвращает значение и завершает работу всей функции, оператор return может использоваться в функции только один раз. Оператор **yield** в функции генератора мы можем использовать неоднократно."
   ]
  },
  {
   "cell_type": "markdown",
   "id": "fcad99a1",
   "metadata": {},
   "source": [
    "### Создадим генератор функцию, последовательно возвращающую кортеж из зеркальных элементов относительно центра входного списка"
   ]
  },
  {
   "cell_type": "code",
   "execution_count": 1,
   "id": "9b9a2c9a",
   "metadata": {},
   "outputs": [],
   "source": [
    "def pair(data):\n",
    "    for i, val in enumerate(data):\n",
    "        yield (val, data[-i-1])"
   ]
  },
  {
   "cell_type": "code",
   "execution_count": 2,
   "id": "30429bc6",
   "metadata": {},
   "outputs": [],
   "source": [
    "data = list(range(10))"
   ]
  },
  {
   "cell_type": "code",
   "execution_count": 3,
   "id": "76791c3f",
   "metadata": {},
   "outputs": [],
   "source": [
    "pair_gen = pair(data)"
   ]
  },
  {
   "cell_type": "code",
   "execution_count": 4,
   "id": "d4dee2f3",
   "metadata": {},
   "outputs": [
    {
     "data": {
      "text/plain": [
       "(0, 9)"
      ]
     },
     "execution_count": 4,
     "metadata": {},
     "output_type": "execute_result"
    }
   ],
   "source": [
    "next(pair_gen)"
   ]
  },
  {
   "cell_type": "code",
   "execution_count": 5,
   "id": "31f7078d",
   "metadata": {},
   "outputs": [
    {
     "name": "stdout",
     "output_type": "stream",
     "text": [
      "(1, 8)\n",
      "(2, 7)\n",
      "(3, 6)\n",
      "(4, 5)\n",
      "(5, 4)\n",
      "(6, 3)\n",
      "(7, 2)\n",
      "(8, 1)\n",
      "(9, 0)\n"
     ]
    }
   ],
   "source": [
    "for val in pair_gen: print(val)"
   ]
  },
  {
   "cell_type": "markdown",
   "id": "ee66081e",
   "metadata": {},
   "source": [
    "Множественное использование оператора **yield**"
   ]
  },
  {
   "cell_type": "code",
   "execution_count": 6,
   "id": "6c7ab6f2",
   "metadata": {},
   "outputs": [],
   "source": [
    "def multiple_yield(): \n",
    "    while True:\n",
    "        str1 = \"str1\" \n",
    "        yield str1 \n",
    " \n",
    "        str2 = \"str2\" \n",
    "        yield str2 \n",
    " \n",
    "        str3 = \"str3\" \n",
    "        yield str3"
   ]
  },
  {
   "cell_type": "code",
   "execution_count": 7,
   "id": "4bbc0609",
   "metadata": {},
   "outputs": [],
   "source": [
    "obj = multiple_yield() "
   ]
  },
  {
   "cell_type": "code",
   "execution_count": 8,
   "id": "75c472c5",
   "metadata": {},
   "outputs": [
    {
     "data": {
      "text/plain": [
       "'str1'"
      ]
     },
     "execution_count": 8,
     "metadata": {},
     "output_type": "execute_result"
    }
   ],
   "source": [
    "next(obj)"
   ]
  },
  {
   "cell_type": "markdown",
   "id": "f5a2084e",
   "metadata": {},
   "source": [
    "Разница между функцией генератора и нормальной функцией:\n",
    "* Нормальная функция содержит только один оператор **return**, тогда как функция генератора может содержать один или несколько операторов **yield**.\n",
    "* Когда вызываются функции генератора, нормальная функция немедленно приостанавливается, и управление передается вызывающей стороне.\n",
    "* Локальные переменные и их состояния запоминаются между последовательными вызовами.\n",
    "* Исключение **StopIteration** возникает автоматически при завершении функции."
   ]
  },
  {
   "cell_type": "markdown",
   "id": "8c83c82d",
   "metadata": {},
   "source": [
    "## pytest"
   ]
  },
  {
   "cell_type": "markdown",
   "id": "c114395d",
   "metadata": {},
   "source": [
    "**pytest** - это фреймворк, который позволяет легко создавать как простые, так и расширяемые тесты.\\\n",
    "Тесты легко читаются — не нужно никаких шаблонов"
   ]
  },
  {
   "cell_type": "code",
   "execution_count": 9,
   "id": "5e718fe4",
   "metadata": {},
   "outputs": [],
   "source": [
    "import ipytest\n",
    "import pytest\n",
    "ipytest.autoconfig()"
   ]
  },
  {
   "cell_type": "markdown",
   "id": "305be72e",
   "metadata": {},
   "source": [
    "**Тестирование простейшей функции, через jupyter notebook**"
   ]
  },
  {
   "cell_type": "code",
   "execution_count": 10,
   "id": "eaae29e8",
   "metadata": {},
   "outputs": [
    {
     "name": "stdout",
     "output_type": "stream",
     "text": [
      "\u001b[1m======================================= test session starts =======================================\u001b[0m\n",
      "platform win32 -- Python 3.8.8, pytest-6.2.3, py-1.10.0, pluggy-0.13.1\n",
      "rootdir: C:\\Users\\Egor\\Desktop\\test\n",
      "plugins: anyio-2.2.0\n",
      "collected 4 items\n",
      "\n",
      "tmp7nkj1658.py \u001b[32m.\u001b[0m\u001b[32m.\u001b[0m\u001b[32m.\u001b[0m\u001b[32m.\u001b[0m\u001b[33m                                                                          [100%]\u001b[0m\n",
      "\n",
      "\u001b[33m======================================== warnings summary =========================================\u001b[0m\n",
      "..\\..\\..\\..\\ProgramData\\Anaconda3\\lib\\site-packages\\pyreadline\\py3k_compat.py:8\n",
      "  C:\\ProgramData\\Anaconda3\\lib\\site-packages\\pyreadline\\py3k_compat.py:8: DeprecationWarning: Using or importing the ABCs from 'collections' instead of from 'collections.abc' is deprecated since Python 3.3, and in 3.9 it will stop working\n",
      "    return isinstance(x, collections.Callable)\n",
      "\n",
      "-- Docs: https://docs.pytest.org/en/stable/warnings.html\n",
      "\u001b[33m================================== \u001b[32m4 passed\u001b[0m, \u001b[33m\u001b[1m1 warning\u001b[0m\u001b[33m in 0.03s\u001b[0m\u001b[33m ===================================\u001b[0m\n"
     ]
    }
   ],
   "source": [
    "%%ipytest -v\n",
    "\n",
    "def test_my_func1():\n",
    "    assert my_func(0) == 0\n",
    "\n",
    "def test_my_func2():\n",
    "    assert my_func(1) == 0\n",
    "\n",
    "def test_my_func3():\n",
    "    assert my_func(2) == 2\n",
    "    \n",
    "def test_my_func4():\n",
    "    assert my_func(3) == 2    \n",
    "\n",
    "def my_func(x):\n",
    "    return x // 2 * 2 "
   ]
  },
  {
   "cell_type": "markdown",
   "id": "3fb80cfa",
   "metadata": {},
   "source": [
    "**Тестирование простейшей функции, через консоль**"
   ]
  },
  {
   "cell_type": "code",
   "execution_count": 11,
   "id": "d9f6c838",
   "metadata": {},
   "outputs": [
    {
     "name": "stdout",
     "output_type": "stream",
     "text": [
      "============================= test session starts =============================\n",
      "platform win32 -- Python 3.8.8, pytest-6.2.3, py-1.10.0, pluggy-0.13.1 -- C:\\ProgramData\\Anaconda3\\python.exe\n",
      "cachedir: .pytest_cache\n",
      "rootdir: C:\\Users\\Egor\\Desktop\\test\n",
      "plugins: anyio-2.2.0\n",
      "collecting ... collected 1 item\n",
      "\n",
      "simple_test.py::test_my_func PASSED                                      [100%]\n",
      "\n",
      "============================== warnings summary ===============================\n",
      "..\\..\\..\\..\\ProgramData\\Anaconda3\\lib\\site-packages\\pyreadline\\py3k_compat.py:8\n",
      "  C:\\ProgramData\\Anaconda3\\lib\\site-packages\\pyreadline\\py3k_compat.py:8: DeprecationWarning: Using or importing the ABCs from 'collections' instead of from 'collections.abc' is deprecated since Python 3.3, and in 3.9 it will stop working\n",
      "    return isinstance(x, collections.Callable)\n",
      "\n",
      "-- Docs: https://docs.pytest.org/en/stable/warnings.html\n",
      "======================== 1 passed, 1 warning in 0.03s =========================\n"
     ]
    }
   ],
   "source": [
    "!pytest simple_test.py -v"
   ]
  },
  {
   "cell_type": "markdown",
   "id": "73fff048",
   "metadata": {},
   "source": [
    "**Группировка функций в класс**"
   ]
  },
  {
   "cell_type": "code",
   "execution_count": 12,
   "id": "f88c766d",
   "metadata": {},
   "outputs": [
    {
     "name": "stdout",
     "output_type": "stream",
     "text": [
      "\u001b[1m======================================= test session starts =======================================\u001b[0m\n",
      "platform win32 -- Python 3.8.8, pytest-6.2.3, py-1.10.0, pluggy-0.13.1\n",
      "rootdir: C:\\Users\\Egor\\Desktop\\test\n",
      "plugins: anyio-2.2.0\n",
      "collected 2 items\n",
      "\n",
      "tmpw_ii8zfx.py \u001b[32m.\u001b[0m\u001b[31mF\u001b[0m\u001b[31m                                                                            [100%]\u001b[0m\n",
      "\n",
      "============================================ FAILURES =============================================\n",
      "\u001b[31m\u001b[1m_______________________________________ TestClass.test_two ________________________________________\u001b[0m\n",
      "\n",
      "self = <__main__.TestClass object at 0x000000000660D1F0>\n",
      "\n",
      "    \u001b[94mdef\u001b[39;49;00m \u001b[92mtest_two\u001b[39;49;00m(\u001b[96mself\u001b[39;49;00m):\n",
      "        x = \u001b[33m\"\u001b[39;49;00m\u001b[33mhello\u001b[39;49;00m\u001b[33m\"\u001b[39;49;00m\n",
      ">       \u001b[94massert\u001b[39;49;00m \u001b[96mhasattr\u001b[39;49;00m(x, \u001b[33m\"\u001b[39;49;00m\u001b[33mcheck\u001b[39;49;00m\u001b[33m\"\u001b[39;49;00m)\n",
      "\u001b[1m\u001b[31mE       AssertionError: assert False\u001b[0m\n",
      "\u001b[1m\u001b[31mE        +  where False = hasattr('hello', 'check')\u001b[0m\n",
      "\n",
      "\u001b[1m\u001b[31m<ipython-input-12-3de1b4cdc252>\u001b[0m:9: AssertionError\n",
      "===================================== short test summary info =====================================\n",
      "FAILED tmpw_ii8zfx.py::TestClass::test_two - AssertionError: assert False\n",
      "\u001b[31m=================================== \u001b[31m\u001b[1m1 failed\u001b[0m, \u001b[32m1 passed\u001b[0m\u001b[31m in 0.30s\u001b[0m\u001b[31m ===================================\u001b[0m\n"
     ]
    }
   ],
   "source": [
    "%%ipytest -v\n",
    "\n",
    "class TestClass:\n",
    "    \n",
    "    def test_one(self):\n",
    "        x = \"this\"\n",
    "        assert \"h\" in x\n",
    "    \n",
    "    def test_two(self):\n",
    "        x = \"hello\"\n",
    "        assert hasattr(x, \"check\")\n"
   ]
  },
  {
   "cell_type": "code",
   "execution_count": 13,
   "id": "eb91cb87",
   "metadata": {},
   "outputs": [
    {
     "name": "stdout",
     "output_type": "stream",
     "text": [
      "============================= test session starts =============================\n",
      "platform win32 -- Python 3.8.8, pytest-6.2.3, py-1.10.0, pluggy-0.13.1 -- C:\\ProgramData\\Anaconda3\\python.exe\n",
      "cachedir: .pytest_cache\n",
      "rootdir: C:\\Users\\Egor\\Desktop\\test\n",
      "plugins: anyio-2.2.0\n",
      "collecting ... collected 2 items\n",
      "\n",
      "simple_class.py::TestClass::test_one PASSED                              [ 50%]\n",
      "simple_class.py::TestClass::test_two FAILED                              [100%]\n",
      "\n",
      "================================== FAILURES ===================================\n",
      "_____________________________ TestClass.test_two ______________________________\n",
      "\n",
      "self = <simple_class.TestClass object at 0x0000000003B9A970>\n",
      "\n",
      "    def test_two(self):\n",
      "        x = \"hello\"\n",
      ">       assert hasattr(x, \"check\")\n",
      "E       AssertionError: assert False\n",
      "E        +  where False = hasattr('hello', 'check')\n",
      "\n",
      "simple_class.py:11: AssertionError\n",
      "============================== warnings summary ===============================\n",
      "..\\..\\..\\..\\ProgramData\\Anaconda3\\lib\\site-packages\\pyreadline\\py3k_compat.py:8\n",
      "  C:\\ProgramData\\Anaconda3\\lib\\site-packages\\pyreadline\\py3k_compat.py:8: DeprecationWarning: Using or importing the ABCs from 'collections' instead of from 'collections.abc' is deprecated since Python 3.3, and in 3.9 it will stop working\n",
      "    return isinstance(x, collections.Callable)\n",
      "\n",
      "-- Docs: https://docs.pytest.org/en/stable/warnings.html\n",
      "=========================== short test summary info ===========================\n",
      "FAILED simple_class.py::TestClass::test_two - AssertionError: assert False\n",
      "=================== 1 failed, 1 passed, 1 warning in 0.12s ====================\n"
     ]
    }
   ],
   "source": [
    "!pytest simple_class.py -v"
   ]
  },
  {
   "cell_type": "markdown",
   "id": "caa52ce2",
   "metadata": {},
   "source": [
    "Протестируем ранее написанную функцию **pair**"
   ]
  },
  {
   "cell_type": "code",
   "execution_count": 14,
   "id": "437ac26f",
   "metadata": {},
   "outputs": [
    {
     "name": "stdout",
     "output_type": "stream",
     "text": [
      "\u001b[32m.\u001b[0m\u001b[31mF\u001b[0m\u001b[31m                                                                                           [100%]\u001b[0m\n",
      "============================================ FAILURES =============================================\n",
      "\u001b[31m\u001b[1m___________________________________________ test_pair2 ____________________________________________\u001b[0m\n",
      "\n",
      "    \u001b[94mdef\u001b[39;49;00m \u001b[92mtest_pair2\u001b[39;49;00m():\n",
      ">       \u001b[94massert\u001b[39;49;00m \u001b[96misinstance\u001b[39;49;00m(\u001b[96mnext\u001b[39;49;00m(pair_gen),\u001b[96mtuple\u001b[39;49;00m)\n",
      "\u001b[1m\u001b[31mE       StopIteration\u001b[0m\n",
      "\n",
      "\u001b[1m\u001b[31m<ipython-input-14-c180c786d1ec>\u001b[0m:10: StopIteration\n",
      "===================================== short test summary info =====================================\n",
      "FAILED tmpozb3hpuf.py::test_pair2 - StopIteration\n",
      "\u001b[31m\u001b[31m\u001b[1m1 failed\u001b[0m, \u001b[32m1 passed\u001b[0m\u001b[31m in 0.02s\u001b[0m\u001b[0m\n"
     ]
    }
   ],
   "source": [
    "%%ipytest\n",
    "\n",
    "test_list = list(range(10))\n",
    "pair_gen = pair(test_list)\n",
    "\n",
    "def test_pair1():\n",
    "    for i, val in enumerate(pair_gen):\n",
    "         if i == 0:\n",
    "                assert val == (0, 9)\n",
    "                \n",
    "def test_pair2():\n",
    "    assert isinstance(next(pair_gen),tuple)"
   ]
  },
  {
   "cell_type": "markdown",
   "id": "086b2b40",
   "metadata": {},
   "source": [
    "Ввиду того, что генератор **pair_gen** инициализируется один раз за выполнение тестов, то сгенерировав все значения необходимых пар в **test_pair1()**, при вызове генератора в **test_pair2()** появляется исключение **StopIteration** означающее, что генератор не может сгенерировать следующие элементы. Данная проблема будет решена позже"
   ]
  },
  {
   "cell_type": "markdown",
   "id": "0f9927bb",
   "metadata": {},
   "source": [
    "**Запуск тестов по идентификаторам узлов**\n",
    "\n",
    "Каждому собранному тесту присваивается уникальный идентификатор *nodeid*, который состоит из\n",
    "имени файла модуля, за которым следуют спецификаторы, такие как имена классов, имена функций\n",
    "и параметры из параметризации, разделенные символами **::**"
   ]
  },
  {
   "cell_type": "code",
   "execution_count": 15,
   "id": "7c3b8e5b",
   "metadata": {},
   "outputs": [
    {
     "name": "stdout",
     "output_type": "stream",
     "text": [
      "============================= test session starts =============================\n",
      "platform win32 -- Python 3.8.8, pytest-6.2.3, py-1.10.0, pluggy-0.13.1\n",
      "rootdir: C:\\Users\\Egor\\Desktop\\test\n",
      "plugins: anyio-2.2.0\n",
      "collected 1 item\n",
      "\n",
      "simple_class.py .                                                        [100%]\n",
      "\n",
      "============================== warnings summary ===============================\n",
      "..\\..\\..\\..\\ProgramData\\Anaconda3\\lib\\site-packages\\pyreadline\\py3k_compat.py:8\n",
      "  C:\\ProgramData\\Anaconda3\\lib\\site-packages\\pyreadline\\py3k_compat.py:8: DeprecationWarning: Using or importing the ABCs from 'collections' instead of from 'collections.abc' is deprecated since Python 3.3, and in 3.9 it will stop working\n",
      "    return isinstance(x, collections.Callable)\n",
      "\n",
      "-- Docs: https://docs.pytest.org/en/stable/warnings.html\n",
      "======================== 1 passed, 1 warning in 0.02s =========================\n"
     ]
    }
   ],
   "source": [
    "!pytest simple_class.py::TestClass::test_one"
   ]
  },
  {
   "cell_type": "markdown",
   "id": "46e0767a",
   "metadata": {},
   "source": [
    "**Изменение вывода сообщений трассировки**\n",
    "\n",
    "* *pytest --showlocals*   показывать локальные переменные в сообщениях\n",
    "* pytest -l             показывать локальные переменные в сообщениях (краткий вариант)\n",
    "* pytest --tb=auto      (по умолчанию) \"расширенный\" вывод для первого и последнего сообщений, и \"короткий\" для остальных\n",
    "* pytest --tb=long      исчерпывающий, подробный формат сообщений\n",
    "* pytest --tb=short     сокращенный формат сообщений\n",
    "* pytest --tb=line      только одна строка на падение\n",
    "* pytest --tb=native    стандартный формат библиотеки Python\n",
    "* pytest --tb=no        никаких сообщений"
   ]
  },
  {
   "cell_type": "markdown",
   "id": "bf1188da",
   "metadata": {},
   "source": [
    "Использование **--full-trace** приводит к тому, что при ошибке печатаются очень длинные трассировки (длиннее, чем при **--tb=long**). Параметр также гарантирует, что сообщения трассировки будут\n",
    "напечатаны при прерывании выполнения c клавиатуры с помощью *Ctrl+C*. Это очень полезно,\n",
    "если тесты занимают слишком много времени, и вы прерываете их с клавиатуры с помощью *Ctrl+C*,\n",
    "чтобы узнать, где они зависли. \\\n",
    "\n",
    "По умолчанию при прерывании вывод не будет показан (поскольку\n",
    "исключение KeyboardInterrupt будет поймано pytest). Используя этот параметр, вы можете быть\n",
    "уверены, что увидите трассировку.\n"
   ]
  },
  {
   "cell_type": "markdown",
   "id": "26dff700",
   "metadata": {},
   "source": [
    "**pytest** можно вызвать прямо в коде Python, для этого в коде необходимо указать *pytest.main()*"
   ]
  },
  {
   "cell_type": "code",
   "execution_count": 16,
   "id": "2ab963cb",
   "metadata": {},
   "outputs": [
    {
     "name": "stdout",
     "output_type": "stream",
     "text": [
      "============================= test session starts =============================\n",
      "platform win32 -- Python 3.8.8, pytest-6.2.3, py-1.10.0, pluggy-0.13.1\n",
      "rootdir: C:\\Users\\Egor\\Desktop\\test\n",
      "plugins: anyio-2.2.0\n",
      "collected 8 items\n",
      "\n",
      "simple_test.py .                                                         [ 12%]\n",
      "test_class_solver.py .......                                             [100%]\n",
      "\n",
      "============================== warnings summary ===============================\n",
      "..\\..\\..\\..\\ProgramData\\Anaconda3\\lib\\site-packages\\pyreadline\\py3k_compat.py:8\n",
      "  C:\\ProgramData\\Anaconda3\\lib\\site-packages\\pyreadline\\py3k_compat.py:8: DeprecationWarning: Using or importing the ABCs from 'collections' instead of from 'collections.abc' is deprecated since Python 3.3, and in 3.9 it will stop working\n",
      "    return isinstance(x, collections.Callable)\n",
      "\n",
      "functions.py:7\n",
      "  C:\\Users\\Egor\\Desktop\\test\\functions.py:7: DeprecationWarning: invalid escape sequence \\d\n",
      "    str_ = re.sub('[^-\\d]', '', string)\n",
      "\n",
      "-- Docs: https://docs.pytest.org/en/stable/warnings.html\n",
      "======================== 8 passed, 2 warnings in 1.94s ========================\n"
     ]
    }
   ],
   "source": [
    "!python simple_test.py"
   ]
  },
  {
   "cell_type": "markdown",
   "id": "c27b4f34",
   "metadata": {},
   "source": [
    "### Фикстуры "
   ]
  },
  {
   "cell_type": "markdown",
   "id": "18bbada5",
   "metadata": {},
   "source": [
    "Тестовые фикстуры инициализируют тестовые функции. Они обеспечивают надежность тестов, согласованнность и повторямость их результатов.\n",
    "\n",
    "При инициализации можно настраивать сервисы, состояния, переменные окружения. Доступ к ним осуществляется через аргументы тестовых функций, где для каждой фикстуры, используемой тестовой функцией, в самой функции, как правило, существует\n",
    "соответствующий аргумент, имя которого совпадает с наименованием фикстуры."
   ]
  },
  {
   "cell_type": "markdown",
   "id": "f6092cbd",
   "metadata": {},
   "source": [
    "* фикстуры имеют явные имена и активируются путем их объявления в тестовых функциях, модулях, классах и проектах.\n",
    "* фикстуры реализованы модально: каждый вызов фикстуры инициализирует функцию-фикстуру, которая в свою очередь может использовать другие фикстуры.\n",
    "* управление фикстурами расширяется от простого модуля до комплексного функционального тестирования, позволяя параметризовать фикстуры и тесты в соответствии с конфигурацией и опциями компонентов, или повторно использовать фикстуры внутри функции, класса, модуля или тестовой сессии в целом.\n"
   ]
  },
  {
   "cell_type": "markdown",
   "id": "296663b6",
   "metadata": {},
   "source": [
    "**Фикстуры как аргументы функций**\n",
    "\n",
    "Тестовые функции принимают фикстуры как входящий аргумент с тем же именем. Для каждого такого аргумента функция-фикстура предоставляет объект фикстуры. Для того, чтобы зарегистировать\n",
    "функцию как фикстуру, нужно использовать декоратор **@pytest.fixture**. "
   ]
  },
  {
   "cell_type": "code",
   "execution_count": 17,
   "id": "edf1f6ef",
   "metadata": {},
   "outputs": [
    {
     "name": "stdout",
     "output_type": "stream",
     "text": [
      "\u001b[1m======================================= test session starts =======================================\u001b[0m\n",
      "platform win32 -- Python 3.8.8, pytest-6.2.3, py-1.10.0, pluggy-0.13.1\n",
      "rootdir: C:\\Users\\Egor\\Desktop\\test\n",
      "plugins: anyio-2.2.0\n",
      "collected 1 item\n",
      "\n",
      "tmp3i7hqwh2.py \u001b[32m.\u001b[0m\u001b[32m                                                                             [100%]\u001b[0m\n",
      "\n",
      "\u001b[32m======================================== \u001b[32m\u001b[1m1 passed\u001b[0m\u001b[32m in 0.01s\u001b[0m\u001b[32m ========================================\u001b[0m\n"
     ]
    }
   ],
   "source": [
    "%%ipytest -v\n",
    "\n",
    "class Fruit:\n",
    "    def __init__(self, name):\n",
    "        self.name = name\n",
    "\n",
    "        \n",
    "@pytest.fixture\n",
    "def my_fruit():\n",
    "    return Fruit(\"apple\")\n",
    "\n",
    "\n",
    "@pytest.fixture\n",
    "def fruit_basket(my_fruit):\n",
    "    return [Fruit(\"banana\"), my_fruit]\n",
    "\n",
    "\n",
    "def test_my_fruit_in_basket(my_fruit, fruit_basket):\n",
    "    assert my_fruit in fruit_basket"
   ]
  },
  {
   "cell_type": "markdown",
   "id": "07329224",
   "metadata": {},
   "source": [
    "Рассмотрим прошлый пример с генератором **pair_gen** и попробуем решить задачу с применением декоратора **@pytest.fixture**"
   ]
  },
  {
   "cell_type": "code",
   "execution_count": 18,
   "id": "989cfe10",
   "metadata": {},
   "outputs": [
    {
     "name": "stdout",
     "output_type": "stream",
     "text": [
      "\u001b[32m.\u001b[0m\u001b[32m.\u001b[0m\u001b[32m.\u001b[0m\u001b[31mF\u001b[0m\u001b[31m                                                                                         [100%]\u001b[0m\n",
      "============================================ FAILURES =============================================\n",
      "\u001b[31m\u001b[1m___________________________________________ test_pair4 ____________________________________________\u001b[0m\n",
      "\n",
      "pair_gen = <generator object pair at 0x0000000006B46270>\n",
      "\n",
      "    \u001b[94mdef\u001b[39;49;00m \u001b[92mtest_pair4\u001b[39;49;00m(pair_gen):\n",
      "        \u001b[94mfor\u001b[39;49;00m i, val \u001b[95min\u001b[39;49;00m \u001b[96menumerate\u001b[39;49;00m(pair_gen):\n",
      "             \u001b[94mif\u001b[39;49;00m i == \u001b[94m9\u001b[39;49;00m:\n",
      ">                   \u001b[94massert\u001b[39;49;00m val == (\u001b[94m8\u001b[39;49;00m, \u001b[94m0\u001b[39;49;00m)\n",
      "\u001b[1m\u001b[31mE                   assert (9, 0) == (8, 0)\u001b[0m\n",
      "\u001b[1m\u001b[31mE                     At index 0 diff: 9 != 8\u001b[0m\n",
      "\u001b[1m\u001b[31mE                     Full diff:\u001b[0m\n",
      "\u001b[1m\u001b[31mE                     - (8, 0)\u001b[0m\n",
      "\u001b[1m\u001b[31mE                     ?  ^\u001b[0m\n",
      "\u001b[1m\u001b[31mE                     + (9, 0)\u001b[0m\n",
      "\u001b[1m\u001b[31mE                     ?  ^\u001b[0m\n",
      "\n",
      "\u001b[1m\u001b[31m<ipython-input-18-3c979790190c>\u001b[0m:24: AssertionError\n",
      "===================================== short test summary info =====================================\n",
      "FAILED tmpb6i95twq.py::test_pair4 - assert (9, 0) == (8, 0)\n",
      "\u001b[31m\u001b[31m\u001b[1m1 failed\u001b[0m, \u001b[32m3 passed\u001b[0m\u001b[31m in 0.03s\u001b[0m\u001b[0m\n"
     ]
    }
   ],
   "source": [
    "%%ipytest\n",
    "\n",
    "test_list = list(range(10))\n",
    "\n",
    "@pytest.fixture\n",
    "def pair_gen():\n",
    "    return pair(test_list)\n",
    "\n",
    "def test_pair1(pair_gen):\n",
    "    for i, val in enumerate(pair_gen):\n",
    "         if i == 0:\n",
    "                assert val == (0, 9)\n",
    "                \n",
    "def test_pair2(pair_gen):\n",
    "    assert isinstance(next(pair_gen),tuple)\n",
    "\n",
    "    \n",
    "def test_pair3(pair_gen):\n",
    "    for i, val in enumerate(pair_gen):\n",
    "         if i == 9:\n",
    "                assert val == (9, 0)\n",
    "                \n",
    "def test_pair4(pair_gen):\n",
    "    for i, val in enumerate(pair_gen):\n",
    "         if i == 9:\n",
    "                assert val == (8, 0)\n",
    "    "
   ]
  },
  {
   "cell_type": "markdown",
   "id": "ad90ceb4",
   "metadata": {},
   "source": [
    "Теперь тесты рабочие, кроме последнего ввиду специально поставленного неправильного значения"
   ]
  },
  {
   "cell_type": "markdown",
   "id": "45f14238",
   "metadata": {},
   "source": [
    "**Порядок создания фикстур**\n",
    "\n",
    "При запросе фикстуры функцией сначала инициализиурются фикстуры с самой широкой областью\n",
    "действия - **session** и **module**, а затем - фикстуры более низкого уровня с областями **class** или **function**.\n",
    "В рамках одной тестовой функции порядок создания фикстур с одинаковой областью действия зависит\n",
    "от очередности вызова этих фикстур и установленных между ними зависимостей. При этом фикстуры\n",
    "с параметром **autouse = True** инициализируются прежде явно объявленных фикстур того же уровня.\n"
   ]
  },
  {
   "cell_type": "code",
   "execution_count": 19,
   "id": "a24230d0",
   "metadata": {},
   "outputs": [
    {
     "name": "stdout",
     "output_type": "stream",
     "text": [
      "\u001b[32m.\u001b[0m\u001b[32m                                                                                            [100%]\u001b[0m\n",
      "\u001b[32m\u001b[32m\u001b[1m1 passed\u001b[0m\u001b[32m in 0.01s\u001b[0m\u001b[0m\n"
     ]
    }
   ],
   "source": [
    "%%ipytest\n",
    "\n",
    "order = []\n",
    "\n",
    "@pytest.fixture(scope=\"session\")\n",
    "def s1():\n",
    "    order.append(\"s1\")\n",
    "\n",
    "@pytest.fixture(scope=\"module\")\n",
    "def m1():\n",
    "    order.append(\"m1\")\n",
    "\n",
    "@pytest.fixture\n",
    "def f1(f3):\n",
    "    order.append(\"f1\")\n",
    "\n",
    "@pytest.fixture\n",
    "def f3():\n",
    "    order.append(\"f3\")\n",
    "\n",
    "@pytest.fixture(autouse=True)\n",
    "def a1():\n",
    "    order.append(\"a1\")\n",
    "\n",
    "@pytest.fixture\n",
    "def f2():\n",
    "    order.append(\"f2\")\n",
    "\n",
    "def test_order(f1, m1, f2, s1):\n",
    "    assert order == [\"s1\", \"m1\", \"a1\", \"f3\", \"f1\", \"f2\"]"
   ]
  },
  {
   "cell_type": "markdown",
   "id": "b7889f27",
   "metadata": {},
   "source": [
    "Фикстуры, запрошенные функцией test_order, будут инициализированы в следующем порядке:\n",
    "1. *s1*: фикстура с самой широкой областью действия (**session**).\n",
    "2. *m1*: фикстура второго уровня (**module**).\n",
    "3. *a1*: фикстура с областью действия **function** (function-scoped fixture) и параметром **autouse = True**: экземпляр этой фикстуры будет создан до создания остальных function-scoped фикстур.\n",
    "4. *f3*: function-scoped фикстура, которую запрашивает функция *f1*: ее нужно создать в момент запроса\n",
    "5. *f1*: первая function-scoped фикстура в списке аргументов функции test_order.\n",
    "6. *f2*: последняя function-scoped фикстура в списке аргументов функции test_order.\n"
   ]
  },
  {
   "cell_type": "markdown",
   "id": "7a0edff9",
   "metadata": {},
   "source": [
    "**Фикстура как фабрика данных**\n",
    "\n",
    "Шаблон «фабрика-фикстура» может помочь в ситуациях, когда результат, возвращаемый фикстурой\n",
    "используется много раз в отдельном тесте. Суть в том, что вместо того, чтобы напрямую возвращать\n",
    "данные, фикстура возвращает функцию, которая генерирует данные. И затем эта функция может быть\n",
    "неоднократно вызвана в тесте.\n",
    "Если нужно, фабрики-фикстуры могут принимать параметры:\n"
   ]
  },
  {
   "cell_type": "code",
   "execution_count": 20,
   "id": "f77c9fde",
   "metadata": {},
   "outputs": [
    {
     "name": "stdout",
     "output_type": "stream",
     "text": [
      "\u001b[1m======================================= test session starts =======================================\u001b[0m\n",
      "platform win32 -- Python 3.8.8, pytest-6.2.3, py-1.10.0, pluggy-0.13.1\n",
      "rootdir: C:\\Users\\Egor\\Desktop\\test\n",
      "plugins: anyio-2.2.0\n",
      "collected 1 item\n",
      "\n",
      "tmphcub7zp4.py \u001b[32m.\u001b[0m\u001b[32m                                                                             [100%]\u001b[0m\n",
      "\n",
      "\u001b[32m======================================== \u001b[32m\u001b[1m1 passed\u001b[0m\u001b[32m in 0.01s\u001b[0m\u001b[32m ========================================\u001b[0m\n"
     ]
    }
   ],
   "source": [
    "%%ipytest -v\n",
    "\n",
    "@pytest.fixture\n",
    "def make_customer_record():\n",
    "    def _make_customer_record(name):\n",
    "        return {\"name\": name, \"orders\": []}\n",
    "    \n",
    "    return _make_customer_record\n",
    "\n",
    "\n",
    "def test_customer_records(make_customer_record):\n",
    "    customer_1 = make_customer_record(\"Lisa\")\n",
    "    customer_2 = make_customer_record(\"Mike\")\n",
    "    customer_3 = make_customer_record(\"Meredith\")\n"
   ]
  },
  {
   "cell_type": "markdown",
   "id": "7a154671",
   "metadata": {},
   "source": [
    "**Параметризация фикстур**\n",
    "\n",
    "Фикстуры могут быть параметризованы, если их нужно вызывать неоднократно, выполняя несколько\n",
    "одинаковых, использующих эти фикстуры, тестов. Обычно повторно запускаемые тестовые функции\n",
    "не зависят друг от друга. И в этом случае параметризация фикстур помогает писать исчерпывающие функциональные тесты для компонентов, которые сами по себе могут быть сконфигурированы разными способами."
   ]
  },
  {
   "cell_type": "code",
   "execution_count": 21,
   "id": "b2c85b53",
   "metadata": {},
   "outputs": [
    {
     "name": "stdout",
     "output_type": "stream",
     "text": [
      "\u001b[1m======================================= test session starts =======================================\u001b[0m\n",
      "platform win32 -- Python 3.8.8, pytest-6.2.3, py-1.10.0, pluggy-0.13.1\n",
      "rootdir: C:\\Users\\Egor\\Desktop\\test\n",
      "plugins: anyio-2.2.0\n",
      "collected 4 items\n",
      "\n",
      "tmpv9un9ehw.py \u001b[32m.\u001b[0m\u001b[32m.\u001b[0m\u001b[32m.\u001b[0m\u001b[32m.\u001b[0m\u001b[32m                                                                          [100%]\u001b[0m\n",
      "\n",
      "\u001b[32m======================================== \u001b[32m\u001b[1m4 passed\u001b[0m\u001b[32m in 0.03s\u001b[0m\u001b[32m ========================================\u001b[0m\n"
     ]
    }
   ],
   "source": [
    "%%ipytest -v\n",
    "\n",
    "data_for_test = [(0, 0), (1, 0), (2, 2), (3, 2)]\n",
    "\n",
    "@pytest.fixture(params=data_for_test)\n",
    "def p(request):\n",
    "    return request.param\n",
    "    \n",
    "def test_parametrized(p):\n",
    "    assert my_func(p[0]) == p[1]\n",
    "        \n",
    "def my_func(x):\n",
    "    return x // 2 * 2 "
   ]
  },
  {
   "cell_type": "markdown",
   "id": "034f45f3",
   "metadata": {},
   "source": [
    "**Использование маркировки с параметризованными фикстурами**"
   ]
  },
  {
   "cell_type": "markdown",
   "id": "d25d78e9",
   "metadata": {},
   "source": [
    "Встроенный декоратор **pytest.mark.parametrize** позволяет параметризовать аргументы тестовых функций."
   ]
  },
  {
   "cell_type": "code",
   "execution_count": 22,
   "id": "b3b7a426",
   "metadata": {},
   "outputs": [
    {
     "name": "stdout",
     "output_type": "stream",
     "text": [
      "\u001b[1m======================================= test session starts =======================================\u001b[0m\n",
      "platform win32 -- Python 3.8.8, pytest-6.2.3, py-1.10.0, pluggy-0.13.1\n",
      "rootdir: C:\\Users\\Egor\\Desktop\\test\n",
      "plugins: anyio-2.2.0\n",
      "collected 4 items\n",
      "\n",
      "tmp4766h6qx.py \u001b[32m.\u001b[0m\u001b[32m.\u001b[0m\u001b[32m.\u001b[0m\u001b[32m.\u001b[0m\u001b[32m                                                                          [100%]\u001b[0m\n",
      "\n",
      "\u001b[32m======================================== \u001b[32m\u001b[1m4 passed\u001b[0m\u001b[32m in 0.03s\u001b[0m\u001b[32m ========================================\u001b[0m\n"
     ]
    }
   ],
   "source": [
    "%%ipytest -v\n",
    "               \n",
    "@pytest.mark.parametrize('input,expected', [\n",
    "    (0, 0),\n",
    "    (1, 0),\n",
    "    (2, 2),\n",
    "    (3, 2),\n",
    "])\n",
    "\n",
    "def test_parametrized(input, expected):\n",
    "    assert my_func(input) == expected\n",
    "        \n",
    "def my_func(x):\n",
    "    return x // 2 * 2 "
   ]
  },
  {
   "cell_type": "markdown",
   "id": "138b302c",
   "metadata": {},
   "source": [
    "Рассмотрим задачу с генератором **pair_gen** и попробуем упростить тестирование с применением декоратора **@pytest.mark.parametrize**. Проверим корректно ли выводит значения генератор на каждой итерации. Для этого сформируем тестовые значения"
   ]
  },
  {
   "cell_type": "code",
   "execution_count": 23,
   "id": "0e51174f",
   "metadata": {},
   "outputs": [
    {
     "data": {
      "text/plain": [
       "[(0, 9),\n",
       " (1, 8),\n",
       " (2, 7),\n",
       " (3, 6),\n",
       " (4, 5),\n",
       " (5, 4),\n",
       " (6, 3),\n",
       " (7, 2),\n",
       " (8, 1),\n",
       " (9, 0)]"
      ]
     },
     "execution_count": 23,
     "metadata": {},
     "output_type": "execute_result"
    }
   ],
   "source": [
    "test_data = list(zip(range(10),range(9, -1, -1)))\n",
    "test_data"
   ]
  },
  {
   "cell_type": "markdown",
   "id": "4a162ff7",
   "metadata": {},
   "source": [
    "Тестовая дата представляет собой список кортежей, с правильными значениями генератора при его последовательном вызове"
   ]
  },
  {
   "cell_type": "code",
   "execution_count": 24,
   "id": "c2129056",
   "metadata": {},
   "outputs": [
    {
     "name": "stdout",
     "output_type": "stream",
     "text": [
      "\u001b[1m======================================= test session starts =======================================\u001b[0m\n",
      "platform win32 -- Python 3.8.8, pytest-6.2.3, py-1.10.0, pluggy-0.13.1\n",
      "rootdir: C:\\Users\\Egor\\Desktop\\test\n",
      "plugins: anyio-2.2.0\n",
      "collected 10 items\n",
      "\n",
      "tmptyq3xd4t.py \u001b[32m.\u001b[0m\u001b[32m.\u001b[0m\u001b[32m.\u001b[0m\u001b[32m.\u001b[0m\u001b[32m.\u001b[0m\u001b[32m.\u001b[0m\u001b[32m.\u001b[0m\u001b[32m.\u001b[0m\u001b[32m.\u001b[0m\u001b[32m.\u001b[0m\u001b[32m                                                                    [100%]\u001b[0m\n",
      "\n",
      "\u001b[32m======================================= \u001b[32m\u001b[1m10 passed\u001b[0m\u001b[32m in 0.06s\u001b[0m\u001b[32m ========================================\u001b[0m\n"
     ]
    }
   ],
   "source": [
    "%%ipytest -v\n",
    "\n",
    "test_list = list(range(10))\n",
    "test_data = list(zip(range(10),range(9, -1, -1)))\n",
    "pair_gen = pair(test_list)\n",
    "\n",
    "@pytest.mark.parametrize('left,right', test_data)\n",
    "\n",
    "def test_pair(left,right):\n",
    "    assert next(pair_gen) == (left, right)               "
   ]
  },
  {
   "cell_type": "markdown",
   "id": "9faeb495",
   "metadata": {},
   "source": [
    "В данном примере при помощи декоратора **@pytest.mark.parametrize** было проведено 10 тестов."
   ]
  },
  {
   "cell_type": "markdown",
   "id": "19f43b92",
   "metadata": {},
   "source": [
    "В итоге **pytest** - удобный и простой инструмент для тестирования конструкций различной сложности.\n",
    "\n",
    "В работе, на простых примерах было показано удобство тестирования и простоту параметризации тестов, что уменьшает количество написанного кода для тестирования и позволяет писать тесты покрывающие код на необходимую глубину."
   ]
  }
 ],
 "metadata": {
  "kernelspec": {
   "display_name": "Python 3",
   "language": "python",
   "name": "python3"
  },
  "language_info": {
   "codemirror_mode": {
    "name": "ipython",
    "version": 3
   },
   "file_extension": ".py",
   "mimetype": "text/x-python",
   "name": "python",
   "nbconvert_exporter": "python",
   "pygments_lexer": "ipython3",
   "version": "3.8.8"
  }
 },
 "nbformat": 4,
 "nbformat_minor": 5
}
